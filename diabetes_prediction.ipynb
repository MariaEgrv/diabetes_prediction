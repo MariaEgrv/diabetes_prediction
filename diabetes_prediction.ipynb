{
 "cells": [
  {
   "cell_type": "markdown",
   "metadata": {},
   "source": [
    "In this notebook I create a model that will predict whether a person does or does not have diabetes. I am using a modified diabetes.csv dataset, the original can be found on [Kaggle](https://www.kaggle.com/mathchi/diabetes-data-set).\n",
    "\n",
    "The target column in the dataset is \"Outcome\". "
   ]
  },
  {
   "cell_type": "code",
   "execution_count": 90,
   "metadata": {},
   "outputs": [],
   "source": [
    "import pandas as pd\n",
    "import sklearn as sk\n",
    "import numpy as np\n",
    "from sklearn.preprocessing import StandardScaler\n",
    "from sklearn.preprocessing import MinMaxScaler\n",
    "from sklearn.impute import SimpleImputer\n",
    "from sklearn.pipeline import Pipeline \n",
    "from sklearn.model_selection import train_test_split\n",
    "from sklearn.model_selection import KFold\n",
    "from sklearn.ensemble import RandomForestClassifier\n",
    "from sklearn import svm\n",
    "from sklearn.metrics import confusion_matrix\n",
    "from sklearn.metrics import precision_score, recall_score\n",
    "from sklearn.metrics import f1_score, accuracy_score\n",
    "from sklearn.model_selection import cross_val_score"
   ]
  },
  {
   "cell_type": "code",
   "execution_count": 91,
   "metadata": {},
   "outputs": [
    {
     "data": {
      "text/html": [
       "<div>\n",
       "<style scoped>\n",
       "    .dataframe tbody tr th:only-of-type {\n",
       "        vertical-align: middle;\n",
       "    }\n",
       "\n",
       "    .dataframe tbody tr th {\n",
       "        vertical-align: top;\n",
       "    }\n",
       "\n",
       "    .dataframe thead th {\n",
       "        text-align: right;\n",
       "    }\n",
       "</style>\n",
       "<table border=\"1\" class=\"dataframe\">\n",
       "  <thead>\n",
       "    <tr style=\"text-align: right;\">\n",
       "      <th></th>\n",
       "      <th>Pregnancies</th>\n",
       "      <th>Glucose</th>\n",
       "      <th>BloodPressure</th>\n",
       "      <th>SkinThickness</th>\n",
       "      <th>Insulin</th>\n",
       "      <th>BMI</th>\n",
       "      <th>DiabetesPedigreeFunction</th>\n",
       "      <th>Age</th>\n",
       "      <th>Outcome</th>\n",
       "    </tr>\n",
       "  </thead>\n",
       "  <tbody>\n",
       "    <tr>\n",
       "      <th>0</th>\n",
       "      <td>NaN</td>\n",
       "      <td>148.0</td>\n",
       "      <td>72.0</td>\n",
       "      <td>35.0</td>\n",
       "      <td>0</td>\n",
       "      <td>33.6</td>\n",
       "      <td>0.627</td>\n",
       "      <td>50.0</td>\n",
       "      <td>1</td>\n",
       "    </tr>\n",
       "    <tr>\n",
       "      <th>1</th>\n",
       "      <td>1.0</td>\n",
       "      <td>85.0</td>\n",
       "      <td>66.0</td>\n",
       "      <td>29.0</td>\n",
       "      <td>0</td>\n",
       "      <td>26.6</td>\n",
       "      <td>0.351</td>\n",
       "      <td>31.0</td>\n",
       "      <td>0</td>\n",
       "    </tr>\n",
       "    <tr>\n",
       "      <th>2</th>\n",
       "      <td>8.0</td>\n",
       "      <td>183.0</td>\n",
       "      <td>64.0</td>\n",
       "      <td>0.0</td>\n",
       "      <td>0</td>\n",
       "      <td>23.3</td>\n",
       "      <td>0.672</td>\n",
       "      <td>32.0</td>\n",
       "      <td>1</td>\n",
       "    </tr>\n",
       "    <tr>\n",
       "      <th>3</th>\n",
       "      <td>1.0</td>\n",
       "      <td>89.0</td>\n",
       "      <td>66.0</td>\n",
       "      <td>23.0</td>\n",
       "      <td>94</td>\n",
       "      <td>28.1</td>\n",
       "      <td>0.167</td>\n",
       "      <td>21.0</td>\n",
       "      <td>0</td>\n",
       "    </tr>\n",
       "    <tr>\n",
       "      <th>4</th>\n",
       "      <td>0.0</td>\n",
       "      <td>NaN</td>\n",
       "      <td>40.0</td>\n",
       "      <td>35.0</td>\n",
       "      <td>168</td>\n",
       "      <td>43.1</td>\n",
       "      <td>2.288</td>\n",
       "      <td>NaN</td>\n",
       "      <td>1</td>\n",
       "    </tr>\n",
       "    <tr>\n",
       "      <th>...</th>\n",
       "      <td>...</td>\n",
       "      <td>...</td>\n",
       "      <td>...</td>\n",
       "      <td>...</td>\n",
       "      <td>...</td>\n",
       "      <td>...</td>\n",
       "      <td>...</td>\n",
       "      <td>...</td>\n",
       "      <td>...</td>\n",
       "    </tr>\n",
       "    <tr>\n",
       "      <th>763</th>\n",
       "      <td>10.0</td>\n",
       "      <td>101.0</td>\n",
       "      <td>76.0</td>\n",
       "      <td>NaN</td>\n",
       "      <td>180</td>\n",
       "      <td>32.9</td>\n",
       "      <td>0.171</td>\n",
       "      <td>63.0</td>\n",
       "      <td>0</td>\n",
       "    </tr>\n",
       "    <tr>\n",
       "      <th>764</th>\n",
       "      <td>2.0</td>\n",
       "      <td>122.0</td>\n",
       "      <td>70.0</td>\n",
       "      <td>27.0</td>\n",
       "      <td>Zero</td>\n",
       "      <td>36.8</td>\n",
       "      <td>0.340</td>\n",
       "      <td>27.0</td>\n",
       "      <td>0</td>\n",
       "    </tr>\n",
       "    <tr>\n",
       "      <th>765</th>\n",
       "      <td>5.0</td>\n",
       "      <td>121.0</td>\n",
       "      <td>72.0</td>\n",
       "      <td>23.0</td>\n",
       "      <td>112</td>\n",
       "      <td>26.2</td>\n",
       "      <td>0.245</td>\n",
       "      <td>30.0</td>\n",
       "      <td>N</td>\n",
       "    </tr>\n",
       "    <tr>\n",
       "      <th>766</th>\n",
       "      <td>1.0</td>\n",
       "      <td>126.0</td>\n",
       "      <td>60.0</td>\n",
       "      <td>0.0</td>\n",
       "      <td>Zero</td>\n",
       "      <td>30.1</td>\n",
       "      <td>0.349</td>\n",
       "      <td>47.0</td>\n",
       "      <td>1</td>\n",
       "    </tr>\n",
       "    <tr>\n",
       "      <th>767</th>\n",
       "      <td>1.0</td>\n",
       "      <td>NaN</td>\n",
       "      <td>70.0</td>\n",
       "      <td>31.0</td>\n",
       "      <td>Zero</td>\n",
       "      <td>30.4</td>\n",
       "      <td>NaN</td>\n",
       "      <td>23.0</td>\n",
       "      <td>0</td>\n",
       "    </tr>\n",
       "  </tbody>\n",
       "</table>\n",
       "<p>768 rows × 9 columns</p>\n",
       "</div>"
      ],
      "text/plain": [
       "     Pregnancies  Glucose  BloodPressure  SkinThickness Insulin   BMI  \\\n",
       "0            NaN    148.0           72.0           35.0       0  33.6   \n",
       "1            1.0     85.0           66.0           29.0       0  26.6   \n",
       "2            8.0    183.0           64.0            0.0       0  23.3   \n",
       "3            1.0     89.0           66.0           23.0      94  28.1   \n",
       "4            0.0      NaN           40.0           35.0     168  43.1   \n",
       "..           ...      ...            ...            ...     ...   ...   \n",
       "763         10.0    101.0           76.0            NaN     180  32.9   \n",
       "764          2.0    122.0           70.0           27.0    Zero  36.8   \n",
       "765          5.0    121.0           72.0           23.0     112  26.2   \n",
       "766          1.0    126.0           60.0            0.0    Zero  30.1   \n",
       "767          1.0      NaN           70.0           31.0    Zero  30.4   \n",
       "\n",
       "     DiabetesPedigreeFunction   Age Outcome  \n",
       "0                       0.627  50.0       1  \n",
       "1                       0.351  31.0       0  \n",
       "2                       0.672  32.0       1  \n",
       "3                       0.167  21.0       0  \n",
       "4                       2.288   NaN       1  \n",
       "..                        ...   ...     ...  \n",
       "763                     0.171  63.0       0  \n",
       "764                     0.340  27.0       0  \n",
       "765                     0.245  30.0       N  \n",
       "766                     0.349  47.0       1  \n",
       "767                       NaN  23.0       0  \n",
       "\n",
       "[768 rows x 9 columns]"
      ]
     },
     "execution_count": 91,
     "metadata": {},
     "output_type": "execute_result"
    }
   ],
   "source": [
    "diabetes = pd.read_csv('diabetes.csv', sep=';')\n",
    "diabetes"
   ]
  },
  {
   "cell_type": "code",
   "execution_count": 92,
   "metadata": {},
   "outputs": [
    {
     "data": {
      "text/html": [
       "<div>\n",
       "<style scoped>\n",
       "    .dataframe tbody tr th:only-of-type {\n",
       "        vertical-align: middle;\n",
       "    }\n",
       "\n",
       "    .dataframe tbody tr th {\n",
       "        vertical-align: top;\n",
       "    }\n",
       "\n",
       "    .dataframe thead th {\n",
       "        text-align: right;\n",
       "    }\n",
       "</style>\n",
       "<table border=\"1\" class=\"dataframe\">\n",
       "  <thead>\n",
       "    <tr style=\"text-align: right;\">\n",
       "      <th></th>\n",
       "      <th>count</th>\n",
       "      <th>mean</th>\n",
       "      <th>std</th>\n",
       "      <th>min</th>\n",
       "      <th>25%</th>\n",
       "      <th>50%</th>\n",
       "      <th>75%</th>\n",
       "      <th>max</th>\n",
       "    </tr>\n",
       "  </thead>\n",
       "  <tbody>\n",
       "    <tr>\n",
       "      <th>Pregnancies</th>\n",
       "      <td>731.0</td>\n",
       "      <td>3.824897</td>\n",
       "      <td>3.369400</td>\n",
       "      <td>0.000</td>\n",
       "      <td>1.000</td>\n",
       "      <td>3.0000</td>\n",
       "      <td>6.0000</td>\n",
       "      <td>17.00</td>\n",
       "    </tr>\n",
       "    <tr>\n",
       "      <th>Glucose</th>\n",
       "      <td>730.0</td>\n",
       "      <td>121.152055</td>\n",
       "      <td>31.774802</td>\n",
       "      <td>0.000</td>\n",
       "      <td>99.000</td>\n",
       "      <td>117.0000</td>\n",
       "      <td>141.0000</td>\n",
       "      <td>198.00</td>\n",
       "    </tr>\n",
       "    <tr>\n",
       "      <th>BloodPressure</th>\n",
       "      <td>734.0</td>\n",
       "      <td>69.008174</td>\n",
       "      <td>19.496036</td>\n",
       "      <td>0.000</td>\n",
       "      <td>64.000</td>\n",
       "      <td>72.0000</td>\n",
       "      <td>80.0000</td>\n",
       "      <td>122.00</td>\n",
       "    </tr>\n",
       "    <tr>\n",
       "      <th>SkinThickness</th>\n",
       "      <td>734.0</td>\n",
       "      <td>20.848774</td>\n",
       "      <td>15.876665</td>\n",
       "      <td>0.000</td>\n",
       "      <td>0.000</td>\n",
       "      <td>23.0000</td>\n",
       "      <td>32.0000</td>\n",
       "      <td>99.00</td>\n",
       "    </tr>\n",
       "    <tr>\n",
       "      <th>BMI</th>\n",
       "      <td>733.0</td>\n",
       "      <td>31.979536</td>\n",
       "      <td>7.918709</td>\n",
       "      <td>0.000</td>\n",
       "      <td>27.400</td>\n",
       "      <td>32.0000</td>\n",
       "      <td>36.5000</td>\n",
       "      <td>67.10</td>\n",
       "    </tr>\n",
       "    <tr>\n",
       "      <th>DiabetesPedigreeFunction</th>\n",
       "      <td>728.0</td>\n",
       "      <td>0.472702</td>\n",
       "      <td>0.331714</td>\n",
       "      <td>0.078</td>\n",
       "      <td>0.245</td>\n",
       "      <td>0.3725</td>\n",
       "      <td>0.6245</td>\n",
       "      <td>2.42</td>\n",
       "    </tr>\n",
       "    <tr>\n",
       "      <th>Age</th>\n",
       "      <td>717.0</td>\n",
       "      <td>34.108787</td>\n",
       "      <td>16.119730</td>\n",
       "      <td>-1.000</td>\n",
       "      <td>24.000</td>\n",
       "      <td>29.0000</td>\n",
       "      <td>41.0000</td>\n",
       "      <td>200.00</td>\n",
       "    </tr>\n",
       "  </tbody>\n",
       "</table>\n",
       "</div>"
      ],
      "text/plain": [
       "                          count        mean        std    min     25%  \\\n",
       "Pregnancies               731.0    3.824897   3.369400  0.000   1.000   \n",
       "Glucose                   730.0  121.152055  31.774802  0.000  99.000   \n",
       "BloodPressure             734.0   69.008174  19.496036  0.000  64.000   \n",
       "SkinThickness             734.0   20.848774  15.876665  0.000   0.000   \n",
       "BMI                       733.0   31.979536   7.918709  0.000  27.400   \n",
       "DiabetesPedigreeFunction  728.0    0.472702   0.331714  0.078   0.245   \n",
       "Age                       717.0   34.108787  16.119730 -1.000  24.000   \n",
       "\n",
       "                               50%       75%     max  \n",
       "Pregnancies                 3.0000    6.0000   17.00  \n",
       "Glucose                   117.0000  141.0000  198.00  \n",
       "BloodPressure              72.0000   80.0000  122.00  \n",
       "SkinThickness              23.0000   32.0000   99.00  \n",
       "BMI                        32.0000   36.5000   67.10  \n",
       "DiabetesPedigreeFunction    0.3725    0.6245    2.42  \n",
       "Age                        29.0000   41.0000  200.00  "
      ]
     },
     "execution_count": 92,
     "metadata": {},
     "output_type": "execute_result"
    }
   ],
   "source": [
    "diabetes.describe().T"
   ]
  },
  {
   "cell_type": "code",
   "execution_count": 93,
   "metadata": {},
   "outputs": [
    {
     "data": {
      "text/plain": [
       "Pregnancies                 float64\n",
       "Glucose                     float64\n",
       "BloodPressure               float64\n",
       "SkinThickness               float64\n",
       "Insulin                      object\n",
       "BMI                         float64\n",
       "DiabetesPedigreeFunction    float64\n",
       "Age                         float64\n",
       "Outcome                      object\n",
       "dtype: object"
      ]
     },
     "execution_count": 93,
     "metadata": {},
     "output_type": "execute_result"
    }
   ],
   "source": [
    "diabetes.dtypes"
   ]
  },
  {
   "cell_type": "code",
   "execution_count": 94,
   "metadata": {},
   "outputs": [
    {
     "data": {
      "text/plain": [
       "array(['0', '94', '168', 'Zero', '88', '543', '846', '175', '230', nan,\n",
       "       '96', '235', '146', '115', '110', '245', '54', '192', '207', '70',\n",
       "       '240', '82', '36', '23', '300', '342', '142', '128', '38', '90',\n",
       "       '140', '270', '71', '125', '176', '48', '64', '228', '76', '220',\n",
       "       '40', '152', '18', '135', '495', '37', '51', '100', '99', '145',\n",
       "       '225', '49', '50', '92', '325', '63', '119', '204', '155', '485',\n",
       "       '53', '114', '105', '285', '156', '78', '55', '130', '58', '160',\n",
       "       '210', '318', '44', '190', '280', '271', '129', '120', '478', '56',\n",
       "       '32', '370', '45', '194', '680', '402', '258', '375', '150', '67',\n",
       "       '57', '116', '278', '122', '545', '75', '74', '182', '360', '215',\n",
       "       '184', '42', '132', '148', '180', '205', '85', '231', '29', '68',\n",
       "       '52', '255', '171', '73', '108', '83', '43', '167', '249', '293',\n",
       "       '66', '465', '89', '158', '84', '72', '59', '81', '196', '415',\n",
       "       '87', '275', '165', '579', '310', '61', '474', '170', '277', '60',\n",
       "       '14', '95', '237', '191', '328', '250', '480', '265', '193', '79',\n",
       "       '86', '326', '188', '106', '65', '166', '274', '77', '126', '330',\n",
       "       '600', '185', '25', '41', '272', '321', '144', '183', '91', '46',\n",
       "       '440', '159', '200', '335', '387', '22', '291', '392', '178',\n",
       "       '127', '510', '16', '112'], dtype=object)"
      ]
     },
     "execution_count": 94,
     "metadata": {},
     "output_type": "execute_result"
    }
   ],
   "source": [
    "diabetes.Insulin.unique()"
   ]
  },
  {
   "cell_type": "code",
   "execution_count": 95,
   "metadata": {},
   "outputs": [
    {
     "data": {
      "text/plain": [
       "array(['1', '0', 'N', 'Y'], dtype=object)"
      ]
     },
     "execution_count": 95,
     "metadata": {},
     "output_type": "execute_result"
    }
   ],
   "source": [
    "diabetes.Outcome.unique()"
   ]
  },
  {
   "cell_type": "markdown",
   "metadata": {},
   "source": [
    "Values for variable Insulin are type=object and have both Zero and 0 as values. We should turn Zero to 0 and change the variable type to numeric. Same for variable Insulin. We should transform N to 0 and Y to 1 and then change the variable type to numeric. Let's create a custom transformer for that to be able to pipeline this step when validating the result. "
   ]
  },
  {
   "cell_type": "code",
   "execution_count": 96,
   "metadata": {},
   "outputs": [],
   "source": [
    "diabetes['Insulin'] = diabetes['Insulin'].apply(lambda x: 0 if x == 'Zero' else float(x))"
   ]
  },
  {
   "cell_type": "code",
   "execution_count": 97,
   "metadata": {},
   "outputs": [],
   "source": [
    "diabetes['Outcome'] = diabetes['Outcome'].apply(lambda x: 0 if x=='N' else (1 if x == 'Y' else int(x)))"
   ]
  },
  {
   "cell_type": "code",
   "execution_count": 98,
   "metadata": {},
   "outputs": [
    {
     "data": {
      "text/plain": [
       "<AxesSubplot:ylabel='Outcome'>"
      ]
     },
     "execution_count": 98,
     "metadata": {},
     "output_type": "execute_result"
    },
    {
     "data": {
      "image/png": "[encoded data removed]",
      "text/plain": [
       "<Figure size 432x288 with 1 Axes>"
      ]
     },
     "metadata": {},
     "output_type": "display_data"
    }
   ],
   "source": [
    "diabetes[\"Outcome\"].value_counts().plot.pie(autopct = \"%.1f\")"
   ]
  },
  {
   "cell_type": "code",
   "execution_count": 99,
   "metadata": {},
   "outputs": [
    {
     "data": {
      "text/plain": [
       "<AxesSubplot:ylabel='Pregnancies'>"
      ]
     },
     "execution_count": 99,
     "metadata": {},
     "output_type": "execute_result"
    },
    {
     "data": {
      "image/png": "[encoded data removed]",
      "text/plain": [
       "<Figure size 432x288 with 1 Axes>"
      ]
     },
     "metadata": {},
     "output_type": "display_data"
    }
   ],
   "source": [
    "diabetes[\"Pregnancies\"].value_counts().plot.pie(autopct = \"%.1f\")"
   ]
  },
  {
   "cell_type": "markdown",
   "metadata": {},
   "source": [
    "Let's replace the 0 in all the features except pregnancies with nan's since they are obviously just missing entries"
   ]
  },
  {
   "cell_type": "code",
   "execution_count": 100,
   "metadata": {},
   "outputs": [],
   "source": [
    "diabetes.iloc[:, 1:8] = diabetes.iloc[:, 1:8].replace({0 : np.nan})"
   ]
  },
  {
   "cell_type": "code",
   "execution_count": 101,
   "metadata": {},
   "outputs": [
    {
     "data": {
      "text/plain": [
       "Pregnancies                  37\n",
       "Glucose                      42\n",
       "BloodPressure                69\n",
       "SkinThickness               243\n",
       "Insulin                     400\n",
       "BMI                          46\n",
       "DiabetesPedigreeFunction     40\n",
       "Age                          51\n",
       "Outcome                       0\n",
       "dtype: int64"
      ]
     },
     "execution_count": 101,
     "metadata": {},
     "output_type": "execute_result"
    }
   ],
   "source": [
    "diabetes.isnull().sum()"
   ]
  },
  {
   "cell_type": "markdown",
   "metadata": {},
   "source": [
    "Let's start of with a RandomForest. In order to be able to use it, let's replace our NaNs with median values using SimpleImputer. "
   ]
  },
  {
   "cell_type": "markdown",
   "metadata": {},
   "source": [
    "Let's save our target variable under y and predictors under X and do a train test split."
   ]
  },
  {
   "cell_type": "code",
   "execution_count": 102,
   "metadata": {},
   "outputs": [],
   "source": [
    "X = diabetes.drop('Outcome', axis =1)\n",
    "y = diabetes['Outcome']"
   ]
  },
  {
   "cell_type": "code",
   "execution_count": 103,
   "metadata": {},
   "outputs": [],
   "source": [
    "train_X, test_X, train_y, test_y = train_test_split(X, y, random_state = 0)"
   ]
  },
  {
   "cell_type": "markdown",
   "metadata": {},
   "source": [
    "Now we can do cross validation with 10 folds on the training set to see how the model performs in general. "
   ]
  },
  {
   "cell_type": "code",
   "execution_count": 104,
   "metadata": {},
   "outputs": [
    {
     "name": "stdout",
     "output_type": "stream",
     "text": [
      "Cross validation scores are: [0.72413793 0.79310345 0.81034483 0.82758621 0.68965517 0.84482759\n",
      " 0.64912281 0.64912281 0.80701754 0.80701754]\n",
      "0.76 accuracy with a standard deviation of 0.07\n"
     ]
    }
   ],
   "source": [
    "imputer = SimpleImputer(strategy = 'median')\n",
    "clf = RandomForestClassifier(n_estimators=100)\n",
    "\n",
    "pipeline = Pipeline(steps=[('imputer', imputer),\n",
    "                           ('model', clf)\n",
    "                             ])\n",
    "\n",
    "cv_results = cross_val_score(pipeline, train_X, train_y, cv = 10)\n",
    "print(\"Cross validation scores are:\", cv_results)\n",
    "print(\"%0.2f accuracy with a standard deviation of %0.2f\" % (cv_results.mean(), cv_results.std()))"
   ]
  },
  {
   "cell_type": "markdown",
   "metadata": {},
   "source": [
    "Now let's see how our model will perform on the data it hasn't seen so far using test data. "
   ]
  },
  {
   "cell_type": "code",
   "execution_count": 124,
   "metadata": {},
   "outputs": [
    {
     "name": "stdout",
     "output_type": "stream",
     "text": [
      "Confusion matrix: [[110  20]\n",
      " [ 28  34]]\n",
      "Precision score: 62.96\n",
      "Recall score: 54.84\n",
      "F1 score: 58.62\n",
      "Accuracy score 75.0\n"
     ]
    }
   ],
   "source": [
    "pipeline = Pipeline(steps=[('imputer', imputer),\n",
    "                           ('model', clf)\n",
    "                             ])\n",
    "\n",
    "pipeline.fit(train_X, train_y)\n",
    "\n",
    "preds = pipeline.predict(test_X)\n",
    "\n",
    "conf_m = confusion_matrix(test_y, preds)\n",
    "precision = round(precision_score(test_y, preds)*100, 2)\n",
    "recall = round(recall_score(test_y, preds)*100, 2)\n",
    "f1 = round(f1_score(test_y, preds)*100, 2)\n",
    "accuracy = round(accuracy_score(test_y, preds)*100, 2)\n",
    "print('Confusion matrix:', conf_m)\n",
    "print('Precision score:', precision)\n",
    "print('Recall score:', recall)\n",
    "print('F1 score:', f1)\n",
    "print('Accuracy score', accuracy)"
   ]
  },
  {
   "cell_type": "markdown",
   "metadata": {},
   "source": [
    "The accuracy of our model is not very convincing, having 30 false negatives is not good enough in case of cancer prediction. Let's try to increase the accuracy of our model by imputing NaN's based on the outcome. "
   ]
  },
  {
   "cell_type": "markdown",
   "metadata": {},
   "source": [
    "Let's fill in na's in features based on outcome, e.g. replace na's with median values in this column depending on if the Outcome is 0 or 1."
   ]
  },
  {
   "cell_type": "code",
   "execution_count": 106,
   "metadata": {},
   "outputs": [
    {
     "data": {
      "text/plain": [
       "Pregnancies                 float64\n",
       "Glucose                     float64\n",
       "BloodPressure               float64\n",
       "SkinThickness               float64\n",
       "Insulin                     float64\n",
       "BMI                         float64\n",
       "DiabetesPedigreeFunction    float64\n",
       "Age                         float64\n",
       "Outcome                       int64\n",
       "dtype: object"
      ]
     },
     "execution_count": 106,
     "metadata": {},
     "output_type": "execute_result"
    }
   ],
   "source": [
    "diabetes.head()\n",
    "diabetes.isnull().sum()\n",
    "diabetes.dtypes"
   ]
  },
  {
   "cell_type": "code",
   "execution_count": 107,
   "metadata": {},
   "outputs": [
    {
     "name": "stdout",
     "output_type": "stream",
     "text": [
      "Pregnancies                 0\n",
      "Glucose                     0\n",
      "BloodPressure               0\n",
      "SkinThickness               0\n",
      "Insulin                     0\n",
      "BMI                         0\n",
      "DiabetesPedigreeFunction    0\n",
      "Age                         0\n",
      "Outcome                     0\n",
      "dtype: int64\n"
     ]
    }
   ],
   "source": [
    "diabetes_features = diabetes.drop(['Outcome'], axis=1).columns\n",
    "diabetes_improved = diabetes.copy()\n",
    "for feature in diabetes_features:\n",
    "    value_for_outcome_1 = diabetes_improved.groupby(\"Outcome\")[feature].median()[1]\n",
    "    value_for_outcome_0 = diabetes_improved.groupby(\"Outcome\")[feature].median()[0]\n",
    "    diabetes_improved.loc[(diabetes_improved[\"Outcome\"] == 0) & (diabetes_improved[feature].isnull()), feature] = value_for_outcome_0\n",
    "    diabetes_improved.loc[(diabetes_improved[\"Outcome\"] == 1) & (diabetes_improved[feature].isnull()), feature] = value_for_outcome_1\n",
    "print(diabetes_improved.isnull().sum())"
   ]
  },
  {
   "cell_type": "code",
   "execution_count": 108,
   "metadata": {},
   "outputs": [],
   "source": [
    "X_improved = diabetes_improved.drop('Outcome', axis =1)\n",
    "y_improved = diabetes_improved['Outcome']"
   ]
  },
  {
   "cell_type": "code",
   "execution_count": 109,
   "metadata": {},
   "outputs": [],
   "source": [
    "train_X_improved, test_X_improved, train_y_improved, test_y_improved = train_test_split(X_improved, y_improved, random_state = 0)"
   ]
  },
  {
   "cell_type": "code",
   "execution_count": 110,
   "metadata": {},
   "outputs": [
    {
     "name": "stdout",
     "output_type": "stream",
     "text": [
      "Cross validation scores are: [0.89655172 0.89655172 0.87931034 0.93103448 0.86206897 0.94827586\n",
      " 0.85964912 0.80701754 0.9122807  0.84210526]\n",
      "0.88 accuracy with a standard deviation of 0.04\n"
     ]
    }
   ],
   "source": [
    "kfold = KFold(n_splits = 10)\n",
    "clf = RandomForestClassifier(n_estimators=100)\n",
    "cv_results = cross_val_score(clf, train_X_improved, train_y_improved, cv = 10)\n",
    "print(\"Cross validation scores are:\", cv_results)\n",
    "print(\"%0.2f accuracy with a standard deviation of %0.2f\" % (cv_results.mean(), cv_results.std()))"
   ]
  },
  {
   "cell_type": "code",
   "execution_count": 125,
   "metadata": {},
   "outputs": [
    {
     "name": "stdout",
     "output_type": "stream",
     "text": [
      "Confusion matrix: [[119  11]\n",
      " [  4  58]]\n",
      "Precision score: 84.06\n",
      "Recall score: 93.55\n",
      "F1 score: 88.55\n",
      "Accuracy score 92.19\n"
     ]
    }
   ],
   "source": [
    "clf.fit(train_X_improved, train_y_improved)\n",
    "\n",
    "preds_improved = (clf.predict(test_X_improved))\n",
    "\n",
    "conf_m_1 = confusion_matrix(test_y_improved, preds_improved)\n",
    "precision_1 = round(precision_score(test_y_improved, preds_improved) * 100, 2)\n",
    "recall_1 = round(recall_score(test_y_improved, preds_improved) * 100, 2)\n",
    "f1_1 = round(f1_score(test_y_improved, preds_improved) * 100, 2)\n",
    "accuracy_1 = round(accuracy_score(test_y_improved, preds_improved) * 100, 2)\n",
    "print('Confusion matrix:', conf_m_1)\n",
    "print('Precision score:', precision_1)\n",
    "print('Recall score:', recall_1)\n",
    "print('F1 score:', f1_1)\n",
    "print('Accuracy score', accuracy_1)"
   ]
  },
  {
   "cell_type": "markdown",
   "metadata": {},
   "source": [
    "So we were able to increase performance by just changing the handling of missing values. Let's try to use a different algorithm and see if we can boost our performance even further. "
   ]
  },
  {
   "cell_type": "code",
   "execution_count": 126,
   "metadata": {},
   "outputs": [
    {
     "name": "stdout",
     "output_type": "stream",
     "text": [
      "Cross validation scores are: [0.84482759 0.87931034 0.82758621 0.87931034 0.84482759 0.89655172\n",
      " 0.78947368 0.75438596 0.84210526 0.85964912]\n",
      "0.84 accuracy with a standard deviation of 0.04\n"
     ]
    }
   ],
   "source": [
    "svm_clf = svm.SVC(kernel = 'rbf', C=1)\n",
    "kfold = KFold(n_splits = 10)\n",
    "cv_results = cross_val_score(svm_clf, train_X_improved, train_y_improved, cv = 10)\n",
    "print(\"Cross validation scores are:\", cv_results)\n",
    "print(\"%0.2f accuracy with a standard deviation of %0.2f\" % (cv_results.mean(), cv_results.std()))"
   ]
  },
  {
   "cell_type": "code",
   "execution_count": 127,
   "metadata": {},
   "outputs": [
    {
     "name": "stdout",
     "output_type": "stream",
     "text": [
      "Confusion matrix: [[114  16]\n",
      " [  8  54]]\n",
      "Precision score: 77.14\n",
      "Recall score: 87.1\n",
      "F1 score: 81.82\n",
      "Accuracy score 87.5\n"
     ]
    }
   ],
   "source": [
    "svm_clf.fit(train_X_improved, train_y_improved)\n",
    "\n",
    "preds_improved = (svm_clf.predict(test_X_improved))\n",
    "\n",
    "conf_m_1 = confusion_matrix(test_y_improved, preds_improved)\n",
    "precision_1 = round(precision_score(test_y_improved, preds_improved) * 100, 2)\n",
    "recall_1 = round(recall_score(test_y_improved, preds_improved) * 100, 2)\n",
    "f1_1 = round(f1_score(test_y_improved, preds_improved) * 100, 2)\n",
    "accuracy_1 = round(accuracy_score(test_y_improved, preds_improved) * 100, 2)\n",
    "print('Confusion matrix:', conf_m_1)\n",
    "print('Precision score:', precision_1)\n",
    "print('Recall score:', recall_1)\n",
    "print('F1 score:', f1_1)\n",
    "print('Accuracy score', accuracy_1)"
   ]
  },
  {
   "cell_type": "markdown",
   "metadata": {},
   "source": [
    "Since SVM is a distance based algorithm it is probably sensitive to the scale of the features. Our features currently have very diferent ranges, with e.g. max values ranging from 2.42 to 846:"
   ]
  },
  {
   "cell_type": "code",
   "execution_count": 114,
   "metadata": {},
   "outputs": [
    {
     "data": {
      "text/html": [
       "<div>\n",
       "<style scoped>\n",
       "    .dataframe tbody tr th:only-of-type {\n",
       "        vertical-align: middle;\n",
       "    }\n",
       "\n",
       "    .dataframe tbody tr th {\n",
       "        vertical-align: top;\n",
       "    }\n",
       "\n",
       "    .dataframe thead th {\n",
       "        text-align: right;\n",
       "    }\n",
       "</style>\n",
       "<table border=\"1\" class=\"dataframe\">\n",
       "  <thead>\n",
       "    <tr style=\"text-align: right;\">\n",
       "      <th></th>\n",
       "      <th>Pregnancies</th>\n",
       "      <th>Glucose</th>\n",
       "      <th>BloodPressure</th>\n",
       "      <th>SkinThickness</th>\n",
       "      <th>Insulin</th>\n",
       "      <th>BMI</th>\n",
       "      <th>DiabetesPedigreeFunction</th>\n",
       "      <th>Age</th>\n",
       "    </tr>\n",
       "  </thead>\n",
       "  <tbody>\n",
       "    <tr>\n",
       "      <th>count</th>\n",
       "      <td>768.000000</td>\n",
       "      <td>768.000000</td>\n",
       "      <td>768.000000</td>\n",
       "      <td>768.000000</td>\n",
       "      <td>768.000000</td>\n",
       "      <td>768.000000</td>\n",
       "      <td>768.000000</td>\n",
       "      <td>768.000000</td>\n",
       "    </tr>\n",
       "    <tr>\n",
       "      <th>mean</th>\n",
       "      <td>3.770833</td>\n",
       "      <td>121.524740</td>\n",
       "      <td>72.394531</td>\n",
       "      <td>29.054688</td>\n",
       "      <td>141.658854</td>\n",
       "      <td>32.401562</td>\n",
       "      <td>0.467436</td>\n",
       "      <td>33.882812</td>\n",
       "    </tr>\n",
       "    <tr>\n",
       "      <th>std</th>\n",
       "      <td>3.302574</td>\n",
       "      <td>29.938649</td>\n",
       "      <td>11.641928</td>\n",
       "      <td>8.784372</td>\n",
       "      <td>84.166770</td>\n",
       "      <td>6.726429</td>\n",
       "      <td>0.323962</td>\n",
       "      <td>15.639412</td>\n",
       "    </tr>\n",
       "    <tr>\n",
       "      <th>min</th>\n",
       "      <td>0.000000</td>\n",
       "      <td>44.000000</td>\n",
       "      <td>30.000000</td>\n",
       "      <td>7.000000</td>\n",
       "      <td>14.000000</td>\n",
       "      <td>18.200000</td>\n",
       "      <td>0.078000</td>\n",
       "      <td>-1.000000</td>\n",
       "    </tr>\n",
       "    <tr>\n",
       "      <th>25%</th>\n",
       "      <td>1.000000</td>\n",
       "      <td>100.000000</td>\n",
       "      <td>65.000000</td>\n",
       "      <td>25.000000</td>\n",
       "      <td>105.000000</td>\n",
       "      <td>27.775000</td>\n",
       "      <td>0.251000</td>\n",
       "      <td>24.000000</td>\n",
       "    </tr>\n",
       "    <tr>\n",
       "      <th>50%</th>\n",
       "      <td>3.000000</td>\n",
       "      <td>116.000000</td>\n",
       "      <td>72.000000</td>\n",
       "      <td>27.000000</td>\n",
       "      <td>105.000000</td>\n",
       "      <td>32.000000</td>\n",
       "      <td>0.364500</td>\n",
       "      <td>29.000000</td>\n",
       "    </tr>\n",
       "    <tr>\n",
       "      <th>75%</th>\n",
       "      <td>6.000000</td>\n",
       "      <td>140.000000</td>\n",
       "      <td>80.000000</td>\n",
       "      <td>32.000000</td>\n",
       "      <td>171.000000</td>\n",
       "      <td>36.225000</td>\n",
       "      <td>0.602000</td>\n",
       "      <td>40.000000</td>\n",
       "    </tr>\n",
       "    <tr>\n",
       "      <th>max</th>\n",
       "      <td>17.000000</td>\n",
       "      <td>198.000000</td>\n",
       "      <td>122.000000</td>\n",
       "      <td>99.000000</td>\n",
       "      <td>846.000000</td>\n",
       "      <td>67.100000</td>\n",
       "      <td>2.420000</td>\n",
       "      <td>200.000000</td>\n",
       "    </tr>\n",
       "  </tbody>\n",
       "</table>\n",
       "</div>"
      ],
      "text/plain": [
       "       Pregnancies     Glucose  BloodPressure  SkinThickness     Insulin  \\\n",
       "count   768.000000  768.000000     768.000000     768.000000  768.000000   \n",
       "mean      3.770833  121.524740      72.394531      29.054688  141.658854   \n",
       "std       3.302574   29.938649      11.641928       8.784372   84.166770   \n",
       "min       0.000000   44.000000      30.000000       7.000000   14.000000   \n",
       "25%       1.000000  100.000000      65.000000      25.000000  105.000000   \n",
       "50%       3.000000  116.000000      72.000000      27.000000  105.000000   \n",
       "75%       6.000000  140.000000      80.000000      32.000000  171.000000   \n",
       "max      17.000000  198.000000     122.000000      99.000000  846.000000   \n",
       "\n",
       "              BMI  DiabetesPedigreeFunction         Age  \n",
       "count  768.000000                768.000000  768.000000  \n",
       "mean    32.401562                  0.467436   33.882812  \n",
       "std      6.726429                  0.323962   15.639412  \n",
       "min     18.200000                  0.078000   -1.000000  \n",
       "25%     27.775000                  0.251000   24.000000  \n",
       "50%     32.000000                  0.364500   29.000000  \n",
       "75%     36.225000                  0.602000   40.000000  \n",
       "max     67.100000                  2.420000  200.000000  "
      ]
     },
     "execution_count": 114,
     "metadata": {},
     "output_type": "execute_result"
    }
   ],
   "source": [
    "X_improved.describe()"
   ]
  },
  {
   "cell_type": "markdown",
   "metadata": {},
   "source": [
    "Let's standardize our features with StandardScaler."
   ]
  },
  {
   "cell_type": "code",
   "execution_count": 115,
   "metadata": {},
   "outputs": [
    {
     "data": {
      "text/html": [
       "<div>\n",
       "<style scoped>\n",
       "    .dataframe tbody tr th:only-of-type {\n",
       "        vertical-align: middle;\n",
       "    }\n",
       "\n",
       "    .dataframe tbody tr th {\n",
       "        vertical-align: top;\n",
       "    }\n",
       "\n",
       "    .dataframe thead th {\n",
       "        text-align: right;\n",
       "    }\n",
       "</style>\n",
       "<table border=\"1\" class=\"dataframe\">\n",
       "  <thead>\n",
       "    <tr style=\"text-align: right;\">\n",
       "      <th></th>\n",
       "      <th>Pregnancies</th>\n",
       "      <th>Glucose</th>\n",
       "      <th>BloodPressure</th>\n",
       "      <th>SkinThickness</th>\n",
       "      <th>Insulin</th>\n",
       "      <th>BMI</th>\n",
       "      <th>DiabetesPedigreeFunction</th>\n",
       "      <th>Age</th>\n",
       "    </tr>\n",
       "  </thead>\n",
       "  <tbody>\n",
       "    <tr>\n",
       "      <th>0</th>\n",
       "      <td>4.0</td>\n",
       "      <td>148.0</td>\n",
       "      <td>72.0</td>\n",
       "      <td>35.0</td>\n",
       "      <td>171.0</td>\n",
       "      <td>33.6</td>\n",
       "      <td>0.627</td>\n",
       "      <td>50.0</td>\n",
       "    </tr>\n",
       "    <tr>\n",
       "      <th>1</th>\n",
       "      <td>1.0</td>\n",
       "      <td>85.0</td>\n",
       "      <td>66.0</td>\n",
       "      <td>29.0</td>\n",
       "      <td>105.0</td>\n",
       "      <td>26.6</td>\n",
       "      <td>0.351</td>\n",
       "      <td>31.0</td>\n",
       "    </tr>\n",
       "    <tr>\n",
       "      <th>2</th>\n",
       "      <td>8.0</td>\n",
       "      <td>183.0</td>\n",
       "      <td>64.0</td>\n",
       "      <td>32.0</td>\n",
       "      <td>171.0</td>\n",
       "      <td>23.3</td>\n",
       "      <td>0.672</td>\n",
       "      <td>32.0</td>\n",
       "    </tr>\n",
       "    <tr>\n",
       "      <th>3</th>\n",
       "      <td>1.0</td>\n",
       "      <td>89.0</td>\n",
       "      <td>66.0</td>\n",
       "      <td>23.0</td>\n",
       "      <td>94.0</td>\n",
       "      <td>28.1</td>\n",
       "      <td>0.167</td>\n",
       "      <td>21.0</td>\n",
       "    </tr>\n",
       "    <tr>\n",
       "      <th>4</th>\n",
       "      <td>0.0</td>\n",
       "      <td>140.0</td>\n",
       "      <td>40.0</td>\n",
       "      <td>35.0</td>\n",
       "      <td>168.0</td>\n",
       "      <td>43.1</td>\n",
       "      <td>2.288</td>\n",
       "      <td>36.0</td>\n",
       "    </tr>\n",
       "  </tbody>\n",
       "</table>\n",
       "</div>"
      ],
      "text/plain": [
       "   Pregnancies  Glucose  BloodPressure  SkinThickness  Insulin   BMI  \\\n",
       "0          4.0    148.0           72.0           35.0    171.0  33.6   \n",
       "1          1.0     85.0           66.0           29.0    105.0  26.6   \n",
       "2          8.0    183.0           64.0           32.0    171.0  23.3   \n",
       "3          1.0     89.0           66.0           23.0     94.0  28.1   \n",
       "4          0.0    140.0           40.0           35.0    168.0  43.1   \n",
       "\n",
       "   DiabetesPedigreeFunction   Age  \n",
       "0                     0.627  50.0  \n",
       "1                     0.351  31.0  \n",
       "2                     0.672  32.0  \n",
       "3                     0.167  21.0  \n",
       "4                     2.288  36.0  "
      ]
     },
     "execution_count": 115,
     "metadata": {},
     "output_type": "execute_result"
    }
   ],
   "source": [
    "X_improved.head()"
   ]
  },
  {
   "cell_type": "code",
   "execution_count": 116,
   "metadata": {},
   "outputs": [
    {
     "data": {
      "text/html": [
       "<div>\n",
       "<style scoped>\n",
       "    .dataframe tbody tr th:only-of-type {\n",
       "        vertical-align: middle;\n",
       "    }\n",
       "\n",
       "    .dataframe tbody tr th {\n",
       "        vertical-align: top;\n",
       "    }\n",
       "\n",
       "    .dataframe thead th {\n",
       "        text-align: right;\n",
       "    }\n",
       "</style>\n",
       "<table border=\"1\" class=\"dataframe\">\n",
       "  <thead>\n",
       "    <tr style=\"text-align: right;\">\n",
       "      <th></th>\n",
       "      <th>Pregnancies</th>\n",
       "      <th>Glucose</th>\n",
       "      <th>BloodPressure</th>\n",
       "      <th>SkinThickness</th>\n",
       "      <th>Insulin</th>\n",
       "      <th>BMI</th>\n",
       "      <th>DiabetesPedigreeFunction</th>\n",
       "      <th>Age</th>\n",
       "    </tr>\n",
       "  </thead>\n",
       "  <tbody>\n",
       "    <tr>\n",
       "      <th>0</th>\n",
       "      <td>0.069436</td>\n",
       "      <td>0.884893</td>\n",
       "      <td>-0.033911</td>\n",
       "      <td>0.677247</td>\n",
       "      <td>0.348834</td>\n",
       "      <td>0.178285</td>\n",
       "      <td>0.492860</td>\n",
       "      <td>1.031221</td>\n",
       "    </tr>\n",
       "    <tr>\n",
       "      <th>1</th>\n",
       "      <td>-0.839539</td>\n",
       "      <td>-1.220781</td>\n",
       "      <td>-0.549625</td>\n",
       "      <td>-0.006230</td>\n",
       "      <td>-0.435834</td>\n",
       "      <td>-0.863065</td>\n",
       "      <td>-0.359648</td>\n",
       "      <td>-0.184450</td>\n",
       "    </tr>\n",
       "    <tr>\n",
       "      <th>2</th>\n",
       "      <td>1.281401</td>\n",
       "      <td>2.054713</td>\n",
       "      <td>-0.721530</td>\n",
       "      <td>0.335509</td>\n",
       "      <td>0.348834</td>\n",
       "      <td>-1.353986</td>\n",
       "      <td>0.631856</td>\n",
       "      <td>-0.120467</td>\n",
       "    </tr>\n",
       "    <tr>\n",
       "      <th>3</th>\n",
       "      <td>-0.839539</td>\n",
       "      <td>-1.087088</td>\n",
       "      <td>-0.549625</td>\n",
       "      <td>-0.689706</td>\n",
       "      <td>-0.566612</td>\n",
       "      <td>-0.639918</td>\n",
       "      <td>-0.927986</td>\n",
       "      <td>-0.824277</td>\n",
       "    </tr>\n",
       "    <tr>\n",
       "      <th>4</th>\n",
       "      <td>-1.142530</td>\n",
       "      <td>0.617506</td>\n",
       "      <td>-2.784388</td>\n",
       "      <td>0.677247</td>\n",
       "      <td>0.313168</td>\n",
       "      <td>1.591544</td>\n",
       "      <td>5.623350</td>\n",
       "      <td>0.135463</td>\n",
       "    </tr>\n",
       "  </tbody>\n",
       "</table>\n",
       "</div>"
      ],
      "text/plain": [
       "   Pregnancies   Glucose  BloodPressure  SkinThickness   Insulin       BMI  \\\n",
       "0     0.069436  0.884893      -0.033911       0.677247  0.348834  0.178285   \n",
       "1    -0.839539 -1.220781      -0.549625      -0.006230 -0.435834 -0.863065   \n",
       "2     1.281401  2.054713      -0.721530       0.335509  0.348834 -1.353986   \n",
       "3    -0.839539 -1.087088      -0.549625      -0.689706 -0.566612 -0.639918   \n",
       "4    -1.142530  0.617506      -2.784388       0.677247  0.313168  1.591544   \n",
       "\n",
       "   DiabetesPedigreeFunction       Age  \n",
       "0                  0.492860  1.031221  \n",
       "1                 -0.359648 -0.184450  \n",
       "2                  0.631856 -0.120467  \n",
       "3                 -0.927986 -0.824277  \n",
       "4                  5.623350  0.135463  "
      ]
     },
     "execution_count": 116,
     "metadata": {},
     "output_type": "execute_result"
    }
   ],
   "source": [
    "standard_scaler = StandardScaler()\n",
    "cols = X_improved.columns\n",
    "X_standardized = scaler.fit_transform(X_improved)\n",
    "X_standardized = pd.DataFrame(X_standardized, columns= cols)\n",
    "X_standardized.head()"
   ]
  },
  {
   "cell_type": "code",
   "execution_count": 117,
   "metadata": {},
   "outputs": [],
   "source": [
    "train_X_standardized, test_X_standardized, train_y_improved, test_y_improved = train_test_split(X_standardized, y_improved, random_state = 0)"
   ]
  },
  {
   "cell_type": "code",
   "execution_count": 128,
   "metadata": {},
   "outputs": [
    {
     "name": "stdout",
     "output_type": "stream",
     "text": [
      "Cross validation scores are: [0.77586207 0.87931034 0.79310345 0.94827586 0.81034483 0.86206897\n",
      " 0.87719298 0.73684211 0.85964912 0.80701754]\n",
      "0.83 accuracy with a standard deviation of 0.06\n"
     ]
    }
   ],
   "source": [
    "svm_clf = svm.SVC(kernel = 'rbf', C=1)\n",
    "kfold = KFold(n_splits = 10)\n",
    "cv_results = cross_val_score(svm_clf, train_X_standardized, train_y_improved, cv = 10)\n",
    "print(\"Cross validation scores are:\", cv_results)\n",
    "print(\"%0.2f accuracy with a standard deviation of %0.2f\" % (cv_results.mean(), cv_results.std()))"
   ]
  },
  {
   "cell_type": "code",
   "execution_count": 129,
   "metadata": {},
   "outputs": [
    {
     "name": "stdout",
     "output_type": "stream",
     "text": [
      "Confusion matrix: [[119  11]\n",
      " [ 15  47]]\n",
      "Precision score: 81.03\n",
      "Recall score: 75.81\n",
      "F1 score: 78.33\n",
      "Accuracy score 86.46\n"
     ]
    }
   ],
   "source": [
    "svm_clf.fit(train_X_standardized, train_y_improved)\n",
    "\n",
    "preds_improved = (svm_clf.predict(test_X_standardized))\n",
    "\n",
    "conf_m_1 = confusion_matrix(test_y_improved, preds_improved)\n",
    "precision_1 = round(precision_score(test_y_improved, preds_improved) * 100, 2)\n",
    "recall_1 = round(recall_score(test_y_improved, preds_improved) * 100, 2)\n",
    "f1_1 = round(f1_score(test_y_improved, preds_improved) * 100, 2)\n",
    "accuracy_1 = round(accuracy_score(test_y_improved, preds_improved) * 100, 2)\n",
    "print('Confusion matrix:', conf_m_1)\n",
    "print('Precision score:', precision_1)\n",
    "print('Recall score:', recall_1)\n",
    "print('F1 score:', f1_1)\n",
    "print('Accuracy score', accuracy_1)"
   ]
  },
  {
   "cell_type": "markdown",
   "metadata": {},
   "source": [
    "This didn't really improve our accuracy score, in fact it has brought it down. Let's now try normalizing our data. "
   ]
  },
  {
   "cell_type": "code",
   "execution_count": 120,
   "metadata": {},
   "outputs": [
    {
     "data": {
      "text/html": [
       "<div>\n",
       "<style scoped>\n",
       "    .dataframe tbody tr th:only-of-type {\n",
       "        vertical-align: middle;\n",
       "    }\n",
       "\n",
       "    .dataframe tbody tr th {\n",
       "        vertical-align: top;\n",
       "    }\n",
       "\n",
       "    .dataframe thead th {\n",
       "        text-align: right;\n",
       "    }\n",
       "</style>\n",
       "<table border=\"1\" class=\"dataframe\">\n",
       "  <thead>\n",
       "    <tr style=\"text-align: right;\">\n",
       "      <th></th>\n",
       "      <th>Pregnancies</th>\n",
       "      <th>Glucose</th>\n",
       "      <th>BloodPressure</th>\n",
       "      <th>SkinThickness</th>\n",
       "      <th>Insulin</th>\n",
       "      <th>BMI</th>\n",
       "      <th>DiabetesPedigreeFunction</th>\n",
       "      <th>Age</th>\n",
       "    </tr>\n",
       "  </thead>\n",
       "  <tbody>\n",
       "    <tr>\n",
       "      <th>0</th>\n",
       "      <td>0.235294</td>\n",
       "      <td>0.675325</td>\n",
       "      <td>0.456522</td>\n",
       "      <td>0.304348</td>\n",
       "      <td>0.188702</td>\n",
       "      <td>0.314928</td>\n",
       "      <td>0.234415</td>\n",
       "      <td>0.253731</td>\n",
       "    </tr>\n",
       "    <tr>\n",
       "      <th>1</th>\n",
       "      <td>0.058824</td>\n",
       "      <td>0.266234</td>\n",
       "      <td>0.391304</td>\n",
       "      <td>0.239130</td>\n",
       "      <td>0.109375</td>\n",
       "      <td>0.171779</td>\n",
       "      <td>0.116567</td>\n",
       "      <td>0.159204</td>\n",
       "    </tr>\n",
       "    <tr>\n",
       "      <th>2</th>\n",
       "      <td>0.470588</td>\n",
       "      <td>0.902597</td>\n",
       "      <td>0.369565</td>\n",
       "      <td>0.271739</td>\n",
       "      <td>0.188702</td>\n",
       "      <td>0.104294</td>\n",
       "      <td>0.253629</td>\n",
       "      <td>0.164179</td>\n",
       "    </tr>\n",
       "    <tr>\n",
       "      <th>3</th>\n",
       "      <td>0.058824</td>\n",
       "      <td>0.292208</td>\n",
       "      <td>0.391304</td>\n",
       "      <td>0.173913</td>\n",
       "      <td>0.096154</td>\n",
       "      <td>0.202454</td>\n",
       "      <td>0.038002</td>\n",
       "      <td>0.109453</td>\n",
       "    </tr>\n",
       "    <tr>\n",
       "      <th>4</th>\n",
       "      <td>0.000000</td>\n",
       "      <td>0.623377</td>\n",
       "      <td>0.108696</td>\n",
       "      <td>0.304348</td>\n",
       "      <td>0.185096</td>\n",
       "      <td>0.509202</td>\n",
       "      <td>0.943638</td>\n",
       "      <td>0.184080</td>\n",
       "    </tr>\n",
       "  </tbody>\n",
       "</table>\n",
       "</div>"
      ],
      "text/plain": [
       "   Pregnancies   Glucose  BloodPressure  SkinThickness   Insulin       BMI  \\\n",
       "0     0.235294  0.675325       0.456522       0.304348  0.188702  0.314928   \n",
       "1     0.058824  0.266234       0.391304       0.239130  0.109375  0.171779   \n",
       "2     0.470588  0.902597       0.369565       0.271739  0.188702  0.104294   \n",
       "3     0.058824  0.292208       0.391304       0.173913  0.096154  0.202454   \n",
       "4     0.000000  0.623377       0.108696       0.304348  0.185096  0.509202   \n",
       "\n",
       "   DiabetesPedigreeFunction       Age  \n",
       "0                  0.234415  0.253731  \n",
       "1                  0.116567  0.159204  \n",
       "2                  0.253629  0.164179  \n",
       "3                  0.038002  0.109453  \n",
       "4                  0.943638  0.184080  "
      ]
     },
     "execution_count": 120,
     "metadata": {},
     "output_type": "execute_result"
    }
   ],
   "source": [
    "min_max_scaler = MinMaxScaler()\n",
    "cols = X_improved.columns\n",
    "X_normalized = min_max_scaler.fit_transform(X_improved)\n",
    "X_normalized = pd.DataFrame(X_normalized, columns= cols)\n",
    "X_normalized.head()"
   ]
  },
  {
   "cell_type": "code",
   "execution_count": 121,
   "metadata": {},
   "outputs": [],
   "source": [
    "train_X_normalized, test_X_normalized, train_y_improved, test_y_improved = train_test_split(X_normalized, y_improved, random_state = 0)"
   ]
  },
  {
   "cell_type": "code",
   "execution_count": 122,
   "metadata": {},
   "outputs": [
    {
     "name": "stdout",
     "output_type": "stream",
     "text": [
      "Cross validation scores are: [0.74137931 0.82758621 0.74137931 0.86206897 0.81034483 0.82758621\n",
      " 0.80701754 0.70175439 0.77192982 0.80701754]\n",
      "0.79 accuracy with a standard deviation of 0.05\n"
     ]
    }
   ],
   "source": [
    "svm_clf = svm.SVC(kernel = 'rbf', C=1)\n",
    "kfold = KFold(n_splits = 10)\n",
    "cv_results = cross_val_score(svm_clf, train_X_normalized, train_y_improved, cv = 10)\n",
    "print(\"Cross validation scores are:\", cv_results)\n",
    "print(\"%0.2f accuracy with a standard deviation of %0.2f\" % (cv_results.mean(), cv_results.std()))"
   ]
  },
  {
   "cell_type": "code",
   "execution_count": 123,
   "metadata": {},
   "outputs": [
    {
     "name": "stdout",
     "output_type": "stream",
     "text": [
      "Confusion matrix: [[117  13]\n",
      " [ 28  34]]\n",
      "Precision score: 72.34\n",
      "Recall score: 54.84\n",
      "F1 score: 62.39\n",
      "Accuracy score 78.65\n"
     ]
    }
   ],
   "source": [
    "svm_clf.fit(train_X_normalized, train_y_improved)\n",
    "\n",
    "preds_improved = (svm_clf.predict(test_X_normalized))\n",
    "\n",
    "conf_m_1 = confusion_matrix(test_y_improved, preds_improved)\n",
    "precision_1 = round(precision_score(test_y_improved, preds_improved) * 100, 2)\n",
    "recall_1 = round(recall_score(test_y_improved, preds_improved) * 100, 2)\n",
    "f1_1 = round(f1_score(test_y_improved, preds_improved) * 100, 2)\n",
    "accuracy_1 = round(accuracy_score(test_y_improved, preds_improved) * 100, 2)\n",
    "print('Confusion matrix:', conf_m_1)\n",
    "print('Precision score:', precision_1)\n",
    "print('Recall score:', recall_1)\n",
    "print('F1 score:', f1_1)\n",
    "print('Accuracy score', accuracy_1)"
   ]
  },
  {
   "cell_type": "markdown",
   "metadata": {},
   "source": [
    "Normalization reduced our accuracy even lower, so far the best results have been achieved using RandomForestClassifier with unscaled data. "
   ]
  }
 ],
 "metadata": {
  "kernelspec": {
   "display_name": "Python 3",
   "language": "python",
   "name": "python3"
  },
  "language_info": {
   "codemirror_mode": {
    "name": "ipython",
    "version": 3
   },
   "file_extension": ".py",
   "mimetype": "text/x-python",
   "name": "python",
   "nbconvert_exporter": "python",
   "pygments_lexer": "ipython3",
   "version": "3.7.7"
  }
 },
 "nbformat": 4,
 "nbformat_minor": 2
}
